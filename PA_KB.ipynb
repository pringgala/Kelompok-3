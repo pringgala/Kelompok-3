{
  "nbformat": 4,
  "nbformat_minor": 0,
  "metadata": {
    "colab": {
      "provenance": []
    },
    "kernelspec": {
      "name": "python3",
      "display_name": "Python 3"
    },
    "language_info": {
      "name": "python"
    },
    "accelerator": "GPU",
    "gpuClass": "standard"
  },
  "cells": [
    {
      "cell_type": "code",
      "execution_count": 4,
      "metadata": {
        "colab": {
          "base_uri": "https://localhost:8080/"
        },
        "id": "vufS8lc7BmLA",
        "outputId": "3df8c395-6d37-46d8-8ce0-66cb3ead3a1a"
      },
      "outputs": [
        {
          "output_type": "stream",
          "name": "stdout",
          "text": [
            "Downloading marvel-heroes.zip to /content\n",
            " 99% 1.13G/1.13G [00:07<00:00, 170MB/s]\n",
            "100% 1.13G/1.13G [00:07<00:00, 154MB/s]\n"
          ]
        }
      ],
      "source": [
        "! chmod 600 kaggle.json\n",
        "! KAGGLE_CONFIG_DIR=/content/  kaggle datasets download -d hchen13/marvel-heroes"
      ]
    },
    {
      "cell_type": "markdown",
      "source": [
        "**Mempersiapakan Direktori**"
      ],
      "metadata": {
        "id": "Syd8fhdXFMca"
      }
    },
    {
      "cell_type": "code",
      "source": [
        "import zipfile \n",
        "import os"
      ],
      "metadata": {
        "id": "ar3dLYXeFotB"
      },
      "execution_count": 5,
      "outputs": []
    },
    {
      "cell_type": "code",
      "source": [
        "dataZip = zipfile.ZipFile('/content/marvel-heroes.zip')\n",
        "dataZip.extractall('/content/')"
      ],
      "metadata": {
        "id": "voo4Fcq5FJou"
      },
      "execution_count": 6,
      "outputs": []
    },
    {
      "cell_type": "code",
      "source": [
        "base_dir = '/content/marvel/train'\n",
        "hero_class = os.listdir(base_dir)\n",
        "hero_class"
      ],
      "metadata": {
        "id": "Y0q8WlYCFk52",
        "colab": {
          "base_uri": "https://localhost:8080/"
        },
        "outputId": "fba80d0c-a0d6-4e8a-c9a3-ed6661a12c9d"
      },
      "execution_count": 7,
      "outputs": [
        {
          "output_type": "execute_result",
          "data": {
            "text/plain": [
              "['loki',\n",
              " 'thanos',\n",
              " 'ironman',\n",
              " 'doctor strange',\n",
              " 'black widow',\n",
              " 'spider-man',\n",
              " 'captain america',\n",
              " 'hulk']"
            ]
          },
          "metadata": {},
          "execution_count": 7
        }
      ]
    },
    {
      "cell_type": "markdown",
      "source": [
        "**Image Preprocessing**"
      ],
      "metadata": {
        "id": "xfu3YBYLG1Dv"
      }
    },
    {
      "cell_type": "code",
      "source": [
        "import tensorflow as tf\n",
        "from tensorflow.keras.optimizers import Adam\n",
        "from tensorflow.keras.preprocessing.image import ImageDataGenerator"
      ],
      "metadata": {
        "id": "vT-mYPDbGh_t"
      },
      "execution_count": 8,
      "outputs": []
    },
    {
      "cell_type": "code",
      "source": [
        "train_datagen = ImageDataGenerator(\n",
        "    rescale = 1./255,\n",
        "    rotation_range = 30,\n",
        "    horizontal_flip = True,\n",
        "    vertical_flip = True,\n",
        "    shear_range = 0.2,\n",
        "    fill_mode = 'nearest',\n",
        "    width_shift_range = .2,\n",
        "    height_shift_range = .2,\n",
        "    validation_split = 0.2\n",
        ")"
      ],
      "metadata": {
        "id": "G7_PpQa0Glwc"
      },
      "execution_count": 9,
      "outputs": []
    },
    {
      "cell_type": "code",
      "source": [
        "train_generator = train_datagen.flow_from_directory(\n",
        "    base_dir,\n",
        "    target_size = (100,150),\n",
        "    classes = hero_class,\n",
        "    class_mode = 'categorical',\n",
        "    subset = 'training',\n",
        "    batch_size = 4,\n",
        "    shuffle = False\n",
        ")\n",
        "\n",
        "validation_generator = train_datagen.flow_from_directory(\n",
        "    base_dir,\n",
        "    target_size = (100,150),\n",
        "    classes = hero_class,\n",
        "    class_mode = 'categorical',\n",
        "    subset = 'validation',\n",
        "    batch_size = 3,\n",
        "    shuffle = True\n",
        ")"
      ],
      "metadata": {
        "id": "kGWtvkXRGpJQ",
        "colab": {
          "base_uri": "https://localhost:8080/"
        },
        "outputId": "23bc8613-82a6-482c-be25-a3187e6c3cf0"
      },
      "execution_count": 10,
      "outputs": [
        {
          "output_type": "stream",
          "name": "stdout",
          "text": [
            "Found 2070 images belonging to 8 classes.\n",
            "Found 514 images belonging to 8 classes.\n"
          ]
        }
      ]
    },
    {
      "cell_type": "code",
      "source": [
        "print(train_generator[0])"
      ],
      "metadata": {
        "id": "7rBih39kGxGE",
        "colab": {
          "base_uri": "https://localhost:8080/"
        },
        "outputId": "ff38180e-95f5-4264-bc1c-5f34ae36c68a"
      },
      "execution_count": 11,
      "outputs": [
        {
          "output_type": "stream",
          "name": "stdout",
          "text": [
            "(array([[[[0.59793997, 0.5038223 , 0.40186158],\n",
            "         [0.5983007 , 0.50418305, 0.40222225],\n",
            "         [0.59866136, 0.5045437 , 0.4025829 ],\n",
            "         ...,\n",
            "         [0.11473218, 0.14017737, 0.20006417],\n",
            "         [0.10316685, 0.15217558, 0.22953936],\n",
            "         [0.09177963, 0.15575837, 0.22323413]],\n",
            "\n",
            "        [[0.6019958 , 0.51365554, 0.40591735],\n",
            "         [0.60187554, 0.513896  , 0.40579712],\n",
            "         [0.6017553 , 0.5141365 , 0.4056769 ],\n",
            "         ...,\n",
            "         [0.11680613, 0.13959251, 0.21639828],\n",
            "         [0.11247475, 0.15749273, 0.24754855],\n",
            "         [0.0953813 , 0.15481675, 0.2439413 ]],\n",
            "\n",
            "        [[0.6115435 , 0.52534264, 0.40776938],\n",
            "         [0.6122648 , 0.5258236 , 0.40800983],\n",
            "         [0.61298615, 0.5263045 , 0.4082503 ],\n",
            "         ...,\n",
            "         [0.11373277, 0.1416764 , 0.20767562],\n",
            "         [0.11986019, 0.1556143 , 0.243505  ],\n",
            "         [0.11380866, 0.15688407, 0.25294325]],\n",
            "\n",
            "        ...,\n",
            "\n",
            "        [[0.07843138, 0.16078432, 0.23529413],\n",
            "         [0.07843138, 0.16078432, 0.23529413],\n",
            "         [0.07843138, 0.16078432, 0.23529413],\n",
            "         ...,\n",
            "         [0.07323583, 0.03053063, 0.02492522],\n",
            "         [0.04229902, 0.02507108, 0.02282598],\n",
            "         [0.03208151, 0.02590747, 0.02745098]],\n",
            "\n",
            "        [[0.07843138, 0.16078432, 0.23529413],\n",
            "         [0.07843138, 0.16078432, 0.23529413],\n",
            "         [0.07843138, 0.16078432, 0.23529413],\n",
            "         ...,\n",
            "         [0.07531103, 0.03077477, 0.02565764],\n",
            "         [0.04254316, 0.02519315, 0.02245977],\n",
            "         [0.03244772, 0.0257854 , 0.02745098]],\n",
            "\n",
            "        [[0.07843138, 0.16078432, 0.23529413],\n",
            "         [0.07843138, 0.16078432, 0.23529413],\n",
            "         [0.07843138, 0.16078432, 0.23529413],\n",
            "         ...,\n",
            "         [0.07738622, 0.03101891, 0.02639006],\n",
            "         [0.0427873 , 0.02531522, 0.02209356],\n",
            "         [0.03281393, 0.02566333, 0.02745098]]],\n",
            "\n",
            "\n",
            "       [[[0.36074713, 0.4776674 , 0.41925338],\n",
            "         [0.36661798, 0.47394845, 0.41989574],\n",
            "         [0.34397805, 0.4631988 , 0.3981059 ],\n",
            "         ...,\n",
            "         [0.57850206, 0.65301186, 0.56673735],\n",
            "         [0.5891213 , 0.6636311 , 0.5773566 ],\n",
            "         [0.60608286, 0.68059266, 0.59431815]],\n",
            "\n",
            "        [[0.35036242, 0.46392512, 0.41185945],\n",
            "         [0.35639846, 0.46620238, 0.41237396],\n",
            "         [0.35565293, 0.46692255, 0.40814418],\n",
            "         ...,\n",
            "         [0.5810381 , 0.655548  , 0.5692734 ],\n",
            "         [0.5967295 , 0.6712393 , 0.5849648 ],\n",
            "         [0.60227877, 0.67678857, 0.59051406]],\n",
            "\n",
            "        [[0.34179303, 0.45050624, 0.40817577],\n",
            "         [0.34538373, 0.45486155, 0.40878108],\n",
            "         [0.35412216, 0.4639261 , 0.4092    ],\n",
            "         ...,\n",
            "         [0.58357424, 0.65808403, 0.57180953],\n",
            "         [0.6043377 , 0.67884755, 0.592573  ],\n",
            "         [0.5984746 , 0.6729844 , 0.5867099 ]],\n",
            "\n",
            "        ...,\n",
            "\n",
            "        [[0.81423044, 0.7594314 , 0.55946577],\n",
            "         [0.8910841 , 0.8124751 , 0.59661126],\n",
            "         [0.9424557 , 0.8779209 , 0.6522175 ],\n",
            "         ...,\n",
            "         [0.6568521 , 0.71315515, 0.62856334],\n",
            "         [0.6837141 , 0.738738  , 0.64902955],\n",
            "         [0.6504009 , 0.70414567, 0.61973566]],\n",
            "\n",
            "        [[0.83071494, 0.76450354, 0.5607338 ],\n",
            "         [0.92278504, 0.83783585, 0.6156318 ],\n",
            "         [0.9500639 , 0.8982096 , 0.6712381 ],\n",
            "         ...,\n",
            "         [0.587256  , 0.64607954, 0.57156974],\n",
            "         [0.6057852 , 0.66452   , 0.58965516],\n",
            "         [0.63264716, 0.6901028 , 0.6101215 ]],\n",
            "\n",
            "        [[0.8618088 , 0.7890549 , 0.5790461 ],\n",
            "         [0.9354296 , 0.85918474, 0.6346524 ],\n",
            "         [0.90090126, 0.8625158 , 0.64452654],\n",
            "         ...,\n",
            "         [0.54901963, 0.60980266, 0.5352928 ],\n",
            "         [0.5532114 , 0.6120349 , 0.5375251 ],\n",
            "         [0.57111937, 0.62994295, 0.5554331 ]]],\n",
            "\n",
            "\n",
            "       [[[0.03392544, 0.00392157, 0.00784314],\n",
            "         [0.03255919, 0.00392157, 0.00784314],\n",
            "         [0.03119293, 0.00392157, 0.00784314],\n",
            "         ...,\n",
            "         [0.04870798, 0.04870798, 0.04870798],\n",
            "         [0.05517074, 0.05517074, 0.05517074],\n",
            "         [0.05217839, 0.05217839, 0.05217839]],\n",
            "\n",
            "        [[0.01960784, 0.00287343, 0.00993941],\n",
            "         [0.01960784, 0.00260018, 0.01048591],\n",
            "         [0.01960784, 0.00232693, 0.01103241],\n",
            "         ...,\n",
            "         [0.05483833, 0.05483833, 0.05371709],\n",
            "         [0.06536619, 0.06599786, 0.05955579],\n",
            "         [0.06515297, 0.06699833, 0.05777151]],\n",
            "\n",
            "        [[0.02064607, 0.00103823, 0.01880095],\n",
            "         [0.02091932, 0.00131148, 0.0196207 ],\n",
            "         [0.02119257, 0.00158473, 0.02044045],\n",
            "         ...,\n",
            "         [0.06578796, 0.06578796, 0.06414705],\n",
            "         [0.07773424, 0.07854516, 0.06826925],\n",
            "         [0.07671617, 0.07983635, 0.06423546]],\n",
            "\n",
            "        ...,\n",
            "\n",
            "        [[0.04705883, 0.10980393, 0.10980393],\n",
            "         [0.04705883, 0.10980393, 0.10980393],\n",
            "         [0.04705883, 0.10980393, 0.10980393],\n",
            "         ...,\n",
            "         [0.26384142, 0.39325318, 0.3265865 ],\n",
            "         [0.24859439, 0.37800616, 0.3113395 ],\n",
            "         [0.2713081 , 0.40071988, 0.33405322]],\n",
            "\n",
            "        [[0.04705883, 0.10980393, 0.10980393],\n",
            "         [0.04705883, 0.10980393, 0.10980393],\n",
            "         [0.04705883, 0.10980393, 0.10980393],\n",
            "         ...,\n",
            "         [0.26913574, 0.3985475 , 0.33188084],\n",
            "         [0.24469331, 0.37410507, 0.3074384 ],\n",
            "         [0.2724227 , 0.40183446, 0.3351678 ]],\n",
            "\n",
            "        [[0.04705883, 0.10980393, 0.10980393],\n",
            "         [0.04705883, 0.10980393, 0.10980393],\n",
            "         [0.04705883, 0.10980393, 0.10980393],\n",
            "         ...,\n",
            "         [0.27443004, 0.4038418 , 0.33717513],\n",
            "         [0.24079223, 0.370204  , 0.30353734],\n",
            "         [0.2735373 , 0.40294906, 0.3362824 ]]],\n",
            "\n",
            "\n",
            "       [[[0.7808521 , 0.24900612, 0.13407707],\n",
            "         [0.85439336, 0.29897943, 0.11270162],\n",
            "         [0.86755085, 0.33147046, 0.1369581 ],\n",
            "         ...,\n",
            "         [0.08324163, 0.71138847, 0.8681353 ],\n",
            "         [0.09000907, 0.7632722 , 0.9124996 ],\n",
            "         [0.21595547, 0.8085755 , 0.92981106]],\n",
            "\n",
            "        [[0.7671199 , 0.24290296, 0.13789156],\n",
            "         [0.8391354 , 0.28601018, 0.117279  ],\n",
            "         [0.8759427 , 0.33070755, 0.12398886],\n",
            "         ...,\n",
            "         [0.6189121 , 0.94914174, 0.98135203],\n",
            "         [0.7482454 , 0.99425805, 0.99789464],\n",
            "         [0.8040801 , 0.9980314 , 0.99868757]],\n",
            "\n",
            "        [[0.75338775, 0.23679978, 0.14170603],\n",
            "         [0.82387745, 0.27304095, 0.12185638],\n",
            "         [0.88433456, 0.32994464, 0.1110196 ],\n",
            "         ...,\n",
            "         [0.94464636, 0.99100304, 0.99400204],\n",
            "         [0.98976266, 0.98874724, 0.99249816],\n",
            "         [0.87734264, 0.8562769 , 0.8561293 ]],\n",
            "\n",
            "        ...,\n",
            "\n",
            "        [[0.0902607 , 0.15300581, 0.15001221],\n",
            "         [0.0929548 , 0.1556999 , 0.14679249],\n",
            "         [0.33569676, 0.32887012, 0.26831046],\n",
            "         ...,\n",
            "         [0.04705883, 0.04705883, 0.04705883],\n",
            "         [0.04705883, 0.04705883, 0.04705883],\n",
            "         [0.04705883, 0.04705883, 0.04705883]],\n",
            "\n",
            "        [[0.7576248 , 0.78387856, 0.78287566],\n",
            "         [0.9289725 , 0.9459131 , 0.9454218 ],\n",
            "         [0.8728819 , 0.87999564, 0.8615686 ],\n",
            "         ...,\n",
            "         [0.04705883, 0.04705883, 0.04705883],\n",
            "         [0.04705883, 0.04705883, 0.04705883],\n",
            "         [0.04705883, 0.04705883, 0.04705883]],\n",
            "\n",
            "        [[0.31902808, 0.32258782, 0.32258782],\n",
            "         [0.13325019, 0.13446112, 0.13446112],\n",
            "         [0.12015858, 0.12015858, 0.12201551],\n",
            "         ...,\n",
            "         [0.04705883, 0.04705883, 0.04705883],\n",
            "         [0.04705883, 0.04705883, 0.04705883],\n",
            "         [0.04705883, 0.04705883, 0.04705883]]]], dtype=float32), array([[1., 0., 0., 0., 0., 0., 0., 0.],\n",
            "       [1., 0., 0., 0., 0., 0., 0., 0.],\n",
            "       [1., 0., 0., 0., 0., 0., 0., 0.],\n",
            "       [1., 0., 0., 0., 0., 0., 0., 0.]], dtype=float32))\n"
          ]
        }
      ]
    },
    {
      "cell_type": "markdown",
      "source": [
        "**Modelling**"
      ],
      "metadata": {
        "id": "KihjCn3xHAn8"
      }
    },
    {
      "cell_type": "code",
      "source": [],
      "metadata": {
        "id": "3P23Hu6EqCIg"
      },
      "execution_count": 11,
      "outputs": []
    },
    {
      "cell_type": "code",
      "source": [
        "model = tf.keras.models.Sequential([\n",
        "    tf.keras.layers.Conv2D(32,(3,3), activation='relu', input_shape = (100, 150, 3)),\n",
        "    tf.keras.layers.MaxPooling2D(2,2),\n",
        "    tf.keras.layers.Conv2D(64,(3,3), activation='relu'),\n",
        "    tf.keras.layers.MaxPooling2D(2,2),\n",
        "    tf.keras.layers.Conv2D(32,(3,3), activation='relu'),\n",
        "    tf.keras.layers.MaxPooling2D(2,2),\n",
        "    tf.keras.layers.Flatten(),\n",
        "    tf.keras.layers.Dense(200, activation = 'relu'),\n",
        "    tf.keras.layers.Dropout(0.3, seed=112),\n",
        "    tf.keras.layers.Dense(500, activation = 'relu'),\n",
        "    tf.keras.layers.Dropout(0.5, seed=112),\n",
        "    tf.keras.layers.Dense(8, activation = 'softmax')\n",
        "\n",
        "])\n",
        "\n",
        "model.summary()"
      ],
      "metadata": {
        "id": "FinTsfpTHDAB",
        "colab": {
          "base_uri": "https://localhost:8080/"
        },
        "outputId": "794261e8-0240-418a-d133-799c691e9222"
      },
      "execution_count": 12,
      "outputs": [
        {
          "output_type": "stream",
          "name": "stdout",
          "text": [
            "Model: \"sequential\"\n",
            "_________________________________________________________________\n",
            " Layer (type)                Output Shape              Param #   \n",
            "=================================================================\n",
            " conv2d (Conv2D)             (None, 98, 148, 32)       896       \n",
            "                                                                 \n",
            " max_pooling2d (MaxPooling2D  (None, 49, 74, 32)       0         \n",
            " )                                                               \n",
            "                                                                 \n",
            " conv2d_1 (Conv2D)           (None, 47, 72, 64)        18496     \n",
            "                                                                 \n",
            " max_pooling2d_1 (MaxPooling  (None, 23, 36, 64)       0         \n",
            " 2D)                                                             \n",
            "                                                                 \n",
            " conv2d_2 (Conv2D)           (None, 21, 34, 32)        18464     \n",
            "                                                                 \n",
            " max_pooling2d_2 (MaxPooling  (None, 10, 17, 32)       0         \n",
            " 2D)                                                             \n",
            "                                                                 \n",
            " flatten (Flatten)           (None, 5440)              0         \n",
            "                                                                 \n",
            " dense (Dense)               (None, 200)               1088200   \n",
            "                                                                 \n",
            " dropout (Dropout)           (None, 200)               0         \n",
            "                                                                 \n",
            " dense_1 (Dense)             (None, 500)               100500    \n",
            "                                                                 \n",
            " dropout_1 (Dropout)         (None, 500)               0         \n",
            "                                                                 \n",
            " dense_2 (Dense)             (None, 8)                 4008      \n",
            "                                                                 \n",
            "=================================================================\n",
            "Total params: 1,230,564\n",
            "Trainable params: 1,230,564\n",
            "Non-trainable params: 0\n",
            "_________________________________________________________________\n"
          ]
        }
      ]
    },
    {
      "cell_type": "code",
      "source": [
        "model.compile(\n",
        "    loss= 'categorical_crossentropy',\n",
        "    optimizer = 'Adam',\n",
        "    metrics = ['accuracy']\n",
        ")\n"
      ],
      "metadata": {
        "id": "coiz9WejHHbP"
      },
      "execution_count": 13,
      "outputs": []
    },
    {
      "cell_type": "code",
      "source": [
        "result = model.fit(\n",
        "    train_generator,\n",
        "    steps_per_epoch = 20,\n",
        "    epochs = 10,\n",
        "    validation_steps = 5,\n",
        "    validation_data = validation_generator,\n",
        "    verbose = 1,\n",
        "    batch_size=8,\n",
        ")\n"
      ],
      "metadata": {
        "id": "XRYj0M_-HJkS",
        "colab": {
          "base_uri": "https://localhost:8080/"
        },
        "outputId": "fd1bafd7-297f-4195-b13b-8ba11d209adf"
      },
      "execution_count": 14,
      "outputs": [
        {
          "output_type": "stream",
          "name": "stdout",
          "text": [
            "Epoch 1/10\n",
            "20/20 [==============================] - 11s 119ms/step - loss: 2.1593 - accuracy: 0.0625 - val_loss: 2.0788 - val_accuracy: 0.2000\n",
            "Epoch 2/10\n",
            "20/20 [==============================] - 3s 152ms/step - loss: 2.0734 - accuracy: 0.1500 - val_loss: 2.0798 - val_accuracy: 0.2000\n",
            "Epoch 3/10\n",
            "20/20 [==============================] - 3s 131ms/step - loss: 2.0634 - accuracy: 0.2500 - val_loss: 2.0939 - val_accuracy: 0.0667\n",
            "Epoch 4/10\n",
            "20/20 [==============================] - 1s 66ms/step - loss: 2.0863 - accuracy: 0.1125 - val_loss: 2.0991 - val_accuracy: 0.1333\n",
            "Epoch 5/10\n",
            "20/20 [==============================] - 2s 118ms/step - loss: 2.1006 - accuracy: 0.0000e+00 - val_loss: 2.0809 - val_accuracy: 0.0667\n",
            "Epoch 6/10\n",
            "20/20 [==============================] - 2s 90ms/step - loss: 2.0810 - accuracy: 0.0750 - val_loss: 2.0856 - val_accuracy: 0.1333\n",
            "Epoch 7/10\n",
            "20/20 [==============================] - 2s 83ms/step - loss: 2.0702 - accuracy: 0.1875 - val_loss: 2.0843 - val_accuracy: 0.0667\n",
            "Epoch 8/10\n",
            "20/20 [==============================] - 2s 82ms/step - loss: 2.1064 - accuracy: 0.0250 - val_loss: 2.0862 - val_accuracy: 0.2000\n",
            "Epoch 9/10\n",
            "20/20 [==============================] - 2s 95ms/step - loss: 2.0927 - accuracy: 0.1500 - val_loss: 2.0850 - val_accuracy: 0.0667\n",
            "Epoch 10/10\n",
            "20/20 [==============================] - 2s 86ms/step - loss: 2.0794 - accuracy: 0.1500 - val_loss: 2.0856 - val_accuracy: 0.1333\n"
          ]
        }
      ]
    },
    {
      "cell_type": "markdown",
      "source": [
        "**Tingkat Akurasi**\n"
      ],
      "metadata": {
        "id": "HmfFqfNuBjFQ"
      }
    },
    {
      "cell_type": "markdown",
      "source": [
        "**Upload Image**"
      ],
      "metadata": {
        "id": "3Fgjd2-LM4FT"
      }
    },
    {
      "cell_type": "code",
      "source": [
        "import numpy as np\n",
        "from google.colab import files\n",
        "from keras.preprocessing import image\n",
        "import matplotlib.pyplot as plt\n",
        "import matplotlib.image as mpimg\n",
        "import matplotlib.pyplot as plt\n",
        "import matplotlib.image as mpimg\n",
        "%matplotlib inline"
      ],
      "metadata": {
        "id": "jmEFa1IrMyUQ"
      },
      "execution_count": 15,
      "outputs": []
    }
  ]
}